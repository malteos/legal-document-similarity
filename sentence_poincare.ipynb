{
 "cells": [
  {
   "cell_type": "code",
   "execution_count": 1,
   "metadata": {},
   "outputs": [
    {
     "name": "stdout",
     "output_type": "stream",
     "text": [
      "/home/mostendorff/miniconda2/envs/legal-docsim/bin/python\r\n"
     ]
    }
   ],
   "source": [
    "!which python"
   ]
  },
  {
   "cell_type": "code",
   "execution_count": 2,
   "metadata": {},
   "outputs": [
    {
     "name": "stdout",
     "output_type": "stream",
     "text": [
      "sentence-transformers==0.4.1.2\r\n",
      "transformers==4.2.0\r\n"
     ]
    }
   ],
   "source": [
    "!pip freeze|grep transformers"
   ]
  },
  {
   "cell_type": "code",
   "execution_count": 3,
   "metadata": {},
   "outputs": [
    {
     "name": "stderr",
     "output_type": "stream",
     "text": [
      "unable to import 'smart_open.gcs', disabling that module\n"
     ]
    }
   ],
   "source": [
    "import re\n",
    "import json\n",
    "import os\n",
    "import requests\n",
    "import pickle\n",
    "import pandas as pd\n",
    "import logging\n",
    "from pathlib import Path\n",
    "from collections import defaultdict\n",
    "from docsim.gold_standard import GoldStandard\n",
    "from smart_open import open\n",
    "import random\n",
    "import numpy as np\n",
    "import matplotlib.pyplot as plt\n",
    "\n",
    "from tqdm import tqdm_notebook as tqdm\n",
    "from IPython.core.display import display\n",
    "\n",
    "logging.basicConfig(level=logging.INFO)\n",
    "logger = logging.getLogger(__name__)\n",
    "\n",
    "from gensim.models import KeyedVectors\n",
    "\n",
    "from docsim.methods import RecSys\n",
    "from docsim.methods.keyed_vector_based import KeyedVectorRecSys, MultiKeyedVectorRecSys, EnsembleKeyedVectorRecSys\n",
    "from docsim.methods.text_based import TfIdfRecSys, Doc2VecRecSys, WeightedAvgWordVectorsRecSys\n",
    "from docsim.methods.transformer_based import TransformerRecSys\n",
    "from docsim.methods.graph_based import GraphEmbeddingRecSys\n",
    "from docsim.environment import get_env\n",
    "from docsim.experiment import Experiment\n",
    "from utils import get_mean_avg_precision, get_avg_precision, highlight_max\n",
    "\n",
    "\n",
    "logging.basicConfig(\n",
    "    format=\"%(asctime)s - %(levelname)s - %(name)s -   %(message)s\",\n",
    "    datefmt=\"%Y-%m-%d %H:%M:%S\",\n",
    "    level=logging.INFO,\n",
    ")\n",
    "logger = logging.getLogger(__name__)\n",
    "\n"
   ]
  },
  {
   "cell_type": "code",
   "execution_count": 4,
   "metadata": {},
   "outputs": [
    {
     "name": "stdout",
     "output_type": "stream",
     "text": [
      "Fri Feb  5 19:25:13 2021       \r\n",
      "+-----------------------------------------------------------------------------+\r\n",
      "| NVIDIA-SMI 440.31       Driver Version: 440.31       CUDA Version: 10.2     |\r\n",
      "|-------------------------------+----------------------+----------------------+\r\n",
      "| GPU  Name        Persistence-M| Bus-Id        Disp.A | Volatile Uncorr. ECC |\r\n",
      "| Fan  Temp  Perf  Pwr:Usage/Cap|         Memory-Usage | GPU-Util  Compute M. |\r\n",
      "|===============================+======================+======================|\r\n",
      "|   0  GeForce RTX 208...  On   | 00000000:1B:00.0 Off |                  N/A |\r\n",
      "| 27%   33C    P8    12W / 250W |      0MiB / 11019MiB |      0%      Default |\r\n",
      "+-------------------------------+----------------------+----------------------+\r\n",
      "|   1  Quadro RTX 6000     On   | 00000000:1C:00.0 Off |                  Off |\r\n",
      "| 33%   29C    P8     4W / 260W |  22331MiB / 24220MiB |      0%      Default |\r\n",
      "+-------------------------------+----------------------+----------------------+\r\n",
      "|   2  Quadro RTX 6000     On   | 00000000:1D:00.0 Off |                  Off |\r\n",
      "| 33%   39C    P3    93W / 260W |      0MiB / 24220MiB |      0%      Default |\r\n",
      "+-------------------------------+----------------------+----------------------+\r\n",
      "|   3  Quadro RTX 6000     On   | 00000000:1E:00.0 Off |                  Off |\r\n",
      "| 33%   31C    P8    15W / 260W |      0MiB / 24220MiB |      0%      Default |\r\n",
      "+-------------------------------+----------------------+----------------------+\r\n",
      "|   4  GeForce RTX 208...  On   | 00000000:3D:00.0 Off |                  N/A |\r\n",
      "| 27%   28C    P8    20W / 250W |      0MiB / 11019MiB |      0%      Default |\r\n",
      "+-------------------------------+----------------------+----------------------+\r\n",
      "|   5  Quadro RTX 6000     On   | 00000000:3F:00.0 Off |                  Off |\r\n",
      "| 33%   29C    P8    17W / 260W |      0MiB / 24220MiB |      0%      Default |\r\n",
      "+-------------------------------+----------------------+----------------------+\r\n",
      "|   6  Quadro RTX 6000     On   | 00000000:40:00.0 Off |                  Off |\r\n",
      "| 33%   33C    P8    30W / 260W |      0MiB / 24220MiB |      0%      Default |\r\n",
      "+-------------------------------+----------------------+----------------------+\r\n",
      "|   7  Quadro RTX 6000     On   | 00000000:41:00.0 Off |                  Off |\r\n",
      "| 33%   30C    P8    17W / 260W |      0MiB / 24220MiB |      0%      Default |\r\n",
      "+-------------------------------+----------------------+----------------------+\r\n",
      "                                                                               \r\n",
      "+-----------------------------------------------------------------------------+\r\n",
      "| Processes:                                                       GPU Memory |\r\n",
      "|  GPU       PID   Type   Process name                             Usage      |\r\n",
      "|=============================================================================|\r\n",
      "|    1     57138      C   ...miniconda2/envs/legal-docsim/bin/python 22319MiB |\r\n",
      "+-----------------------------------------------------------------------------+\r\n"
     ]
    }
   ],
   "source": [
    "!nvidia-smi"
   ]
  },
  {
   "cell_type": "code",
   "execution_count": 5,
   "metadata": {},
   "outputs": [],
   "source": [
    "os.environ['CUDA_VISIBLE_DEVICES'] = '2'\n",
    "#os.environ['CUDA_VISIBLE_DEVICES'] = '1,2,3,5,6,7'"
   ]
  },
  {
   "cell_type": "code",
   "execution_count": 6,
   "metadata": {},
   "outputs": [],
   "source": [
    "from sentence_transformers.models import Pooling, Transformer\n",
    "from smart_open import open\n",
    "from tqdm import tqdm\n",
    "from sentence_transformers import SentenceTransformer, losses"
   ]
  },
  {
   "cell_type": "code",
   "execution_count": 7,
   "metadata": {},
   "outputs": [
    {
     "data": {
      "text/plain": [
       "'/data/datasets/BERT_pre_trained_models/pytorch/legal-bert'"
      ]
     },
     "execution_count": 7,
     "metadata": {},
     "output_type": "execute_result"
    }
   ],
   "source": [
    "train_batch_size = 13\n",
    "\n",
    "data_dir = './data'\n",
    "experiment = 'ocb'\n",
    "\n",
    "models_dir = '/data/datasets/BERT_pre_trained_models/pytorch'\n",
    "\n",
    "#model_name = 'legal-bert'\n",
    "#model_name = 'longformer-large-4096'\n",
    "model_name = 'legal-bert'\n",
    "\n",
    "if 'long' in model_name:\n",
    "    train_batch_size = 5\n",
    "\n",
    "max_token_length = 512\n",
    "train_epochs = 3\n",
    "\n",
    "model_output_dir = f'./models/{experiment}/sentence_poincare3_{model_name}'\n",
    "\n",
    "model_name_or_path = os.path.join(models_dir, model_name)\n",
    "model_name_or_path"
   ]
  },
  {
   "cell_type": "code",
   "execution_count": 8,
   "metadata": {},
   "outputs": [
    {
     "data": {
      "text/plain": [
       "'./models/ocb/sentence_poincare3_legal-bert'"
      ]
     },
     "execution_count": 8,
     "metadata": {},
     "output_type": "execute_result"
    }
   ],
   "source": [
    "model_output_dir"
   ]
  },
  {
   "cell_type": "code",
   "execution_count": 9,
   "metadata": {},
   "outputs": [
    {
     "name": "stderr",
     "output_type": "stream",
     "text": [
      "INFO:gensim.models.utils_any2vec:loading projection weights from ./models/ocb/poincare.w2v.txt\n",
      "INFO:gensim.models.utils_any2vec:loaded (1590, 300) matrix from ./models/ocb/poincare.w2v.txt\n",
      "INFO:gensim.models.keyedvectors:precomputing L2-norms of word weight vectors\n"
     ]
    }
   ],
   "source": [
    "from gensim.models import KeyedVectors\n",
    "\n",
    "doc_model = KeyedVectors.load_word2vec_format('./models/ocb/poincare.w2v.txt')\n",
    "doc_model.init_sims(replace=True)"
   ]
  },
  {
   "cell_type": "code",
   "execution_count": 10,
   "metadata": {},
   "outputs": [
    {
     "name": "stderr",
     "output_type": "stream",
     "text": [
      "INFO:__main__:Experiment: ocb\n"
     ]
    },
    {
     "name": "stdout",
     "output_type": "stream",
     "text": [
      "/data/experiments/mostendorff/legal-docsim/environments\n",
      "Environment detected: gpu_server2 (in default.yml)\n"
     ]
    },
    {
     "name": "stderr",
     "output_type": "stream",
     "text": [
      "INFO:docsim.experiment:Documents loaded: 1,632\n",
      "INFO:docsim.experiment:Unique documents in gold standard: 1,623\n",
      "INFO:docsim.experiment:Documents after filtering: 1,590 (before 1,632)\n"
     ]
    }
   ],
   "source": [
    "from pathlib import Path\n",
    "from gensim.models import KeyedVectors\n",
    "\n",
    "from docsim.environment import get_env\n",
    "from docsim.experiment import Experiment\n",
    "from docsim.methods.graph_based import GraphEmbeddingRecSys\n",
    "from docsim.methods.text_based import TfIdfRecSys, Doc2VecRecSys, WeightedAvgWordVectorsRecSys\n",
    "from docsim.methods.transformer_based import TransformerRecSys, SentenceTransformerRecSys\n",
    "\n",
    "\n",
    "env = get_env()\n",
    "data_dir = Path(data_dir)\n",
    "\n",
    "logger.info(f'Experiment: {experiment}')\n",
    "\n",
    "exp = Experiment(name=experiment, env=env, data_dir=data_dir)\n",
    "\n",
    "exp.load_data()\n",
    "exp.filter_docs()"
   ]
  },
  {
   "cell_type": "code",
   "execution_count": 11,
   "metadata": {},
   "outputs": [
    {
     "data": {
      "text/plain": [
       "1263255"
      ]
     },
     "execution_count": 11,
     "metadata": {},
     "output_type": "execute_result"
    }
   ],
   "source": [
    "a_ids = []\n",
    "a_texts = []\n",
    "b_ids = []\n",
    "b_texts = []\n",
    "labels = []\n",
    "pairs = set()\n",
    "\n",
    "for a_id in exp.doc_id2idx:\n",
    "    for b_id in exp.doc_id2idx:\n",
    "        if a_id != b_id:\n",
    "            pair = tuple(sorted([a_id, b_id]))\n",
    "            \n",
    "            if pair not in pairs:\n",
    "\n",
    "                #a_ids.append(a_id)\n",
    "                #b_ids.append(b_id)\n",
    "\n",
    "                a_texts.append(exp.texts[exp.doc_id2idx[a_id]])\n",
    "                b_texts.append(exp.texts[exp.doc_id2idx[b_id]])\n",
    "                \n",
    "                sim = doc_model.similarity(a_id, b_id)\n",
    "                \n",
    "                labels.append(sim)\n",
    "                pairs.add(pair)\n",
    "                \n",
    "len(labels)"
   ]
  },
  {
   "cell_type": "code",
   "execution_count": 12,
   "metadata": {},
   "outputs": [],
   "source": [
    "# sub sample\n",
    "samples = random.sample(list(zip(a_texts, b_texts, labels)), 100_000)\n"
   ]
  },
  {
   "cell_type": "code",
   "execution_count": 13,
   "metadata": {},
   "outputs": [],
   "source": [
    "from sentence_transformers import InputExample\n",
    "\n",
    "# min(1., max(.0, label))\n",
    "train_examples = [InputExample(texts=[a, b], label=label) for a, b, label in samples]"
   ]
  },
  {
   "cell_type": "code",
   "execution_count": 14,
   "metadata": {},
   "outputs": [
    {
     "name": "stderr",
     "output_type": "stream",
     "text": [
      "INFO:sentence_transformers.SentenceTransformer:Use pytorch device: cuda\n"
     ]
    }
   ],
   "source": [
    "# Sentence transformer\n",
    "word_embedding_model = Transformer(model_name_or_path, max_seq_length=max_token_length)\n",
    "pooling_model = Pooling(word_embedding_model.get_word_embedding_dimension())\n",
    "\n",
    "model = SentenceTransformer(modules=[word_embedding_model, pooling_model])"
   ]
  },
  {
   "cell_type": "code",
   "execution_count": 15,
   "metadata": {},
   "outputs": [],
   "source": [
    "import torch\n",
    "\n",
    "from transformers import BertTokenizerFast\n",
    "\n",
    "#tokenizer = BertTokenizerFast.from_pretrained(model_name_or_path)\n",
    "tokenizer = None"
   ]
  },
  {
   "cell_type": "code",
   "execution_count": 16,
   "metadata": {},
   "outputs": [],
   "source": [
    "from torch.utils.data import DataLoader\n",
    "\n",
    "train_dl = DataLoader(train_examples, shuffle=True, batch_size=train_batch_size)"
   ]
  },
  {
   "cell_type": "code",
   "execution_count": 17,
   "metadata": {},
   "outputs": [],
   "source": [
    "train_loss = losses.CosineSimilarityLoss(model)"
   ]
  },
  {
   "cell_type": "code",
   "execution_count": 18,
   "metadata": {},
   "outputs": [
    {
     "data": {
      "text/html": [
       "<div>\n",
       "<style scoped>\n",
       "    .dataframe tbody tr th:only-of-type {\n",
       "        vertical-align: middle;\n",
       "    }\n",
       "\n",
       "    .dataframe tbody tr th {\n",
       "        vertical-align: top;\n",
       "    }\n",
       "\n",
       "    .dataframe thead th {\n",
       "        text-align: right;\n",
       "    }\n",
       "</style>\n",
       "<table border=\"1\" class=\"dataframe\">\n",
       "  <thead>\n",
       "    <tr style=\"text-align: right;\">\n",
       "      <th></th>\n",
       "      <th>seed_id</th>\n",
       "      <th>target_id</th>\n",
       "      <th>label</th>\n",
       "    </tr>\n",
       "  </thead>\n",
       "  <tbody>\n",
       "    <tr>\n",
       "      <th>91905</th>\n",
       "      <td>4609</td>\n",
       "      <td>11182643</td>\n",
       "      <td>/casebooks/360-constitutional-law-separation-o...</td>\n",
       "    </tr>\n",
       "    <tr>\n",
       "      <th>45378</th>\n",
       "      <td>1400301</td>\n",
       "      <td>519963</td>\n",
       "      <td>/casebooks/715-contracts-cases-and-materials/</td>\n",
       "    </tr>\n",
       "    <tr>\n",
       "      <th>105043</th>\n",
       "      <td>3712729</td>\n",
       "      <td>5991514</td>\n",
       "      <td>/casebooks/368-karlan-torts-materials-part-i/,...</td>\n",
       "    </tr>\n",
       "    <tr>\n",
       "      <th>100632</th>\n",
       "      <td>1204707</td>\n",
       "      <td>1769262</td>\n",
       "      <td>/casebooks/510-open-source-property/</td>\n",
       "    </tr>\n",
       "    <tr>\n",
       "      <th>38025</th>\n",
       "      <td>4214321</td>\n",
       "      <td>10175054</td>\n",
       "      <td>/casebooks/510-open-source-property/</td>\n",
       "    </tr>\n",
       "    <tr>\n",
       "      <th>...</th>\n",
       "      <td>...</td>\n",
       "      <td>...</td>\n",
       "      <td>...</td>\n",
       "    </tr>\n",
       "    <tr>\n",
       "      <th>22595</th>\n",
       "      <td>1502994</td>\n",
       "      <td>8690012</td>\n",
       "      <td>/casebooks/303-contracts/,/casebooks/477-contr...</td>\n",
       "    </tr>\n",
       "    <tr>\n",
       "      <th>100416</th>\n",
       "      <td>6037278</td>\n",
       "      <td>7792231</td>\n",
       "      <td>/casebooks/367-criminal-law-spring-2016/,/case...</td>\n",
       "    </tr>\n",
       "    <tr>\n",
       "      <th>88123</th>\n",
       "      <td>6192512</td>\n",
       "      <td>3688385</td>\n",
       "      <td>/casebooks/441-summer-2016-first-amendment-rea...</td>\n",
       "    </tr>\n",
       "    <tr>\n",
       "      <th>6404</th>\n",
       "      <td>2304308</td>\n",
       "      <td>4376899</td>\n",
       "      <td>/casebooks/303-contracts/,/casebooks/477-contr...</td>\n",
       "    </tr>\n",
       "    <tr>\n",
       "      <th>87243</th>\n",
       "      <td>6157107</td>\n",
       "      <td>1220476</td>\n",
       "      <td>/casebooks/551-shameful-or-ignored-supreme-cou...</td>\n",
       "    </tr>\n",
       "  </tbody>\n",
       "</table>\n",
       "<p>100 rows × 3 columns</p>\n",
       "</div>"
      ],
      "text/plain": [
       "        seed_id target_id                                              label\n",
       "91905      4609  11182643  /casebooks/360-constitutional-law-separation-o...\n",
       "45378   1400301    519963      /casebooks/715-contracts-cases-and-materials/\n",
       "105043  3712729   5991514  /casebooks/368-karlan-torts-materials-part-i/,...\n",
       "100632  1204707   1769262               /casebooks/510-open-source-property/\n",
       "38025   4214321  10175054               /casebooks/510-open-source-property/\n",
       "...         ...       ...                                                ...\n",
       "22595   1502994   8690012  /casebooks/303-contracts/,/casebooks/477-contr...\n",
       "100416  6037278   7792231  /casebooks/367-criminal-law-spring-2016/,/case...\n",
       "88123   6192512   3688385  /casebooks/441-summer-2016-first-amendment-rea...\n",
       "6404    2304308   4376899  /casebooks/303-contracts/,/casebooks/477-contr...\n",
       "87243   6157107   1220476  /casebooks/551-shameful-or-ignored-supreme-cou...\n",
       "\n",
       "[100 rows x 3 columns]"
      ]
     },
     "execution_count": 18,
     "metadata": {},
     "output_type": "execute_result"
    }
   ],
   "source": [
    "gs_df = exp.gs.df.sample(n=100)\n",
    "gs_df"
   ]
  },
  {
   "cell_type": "code",
   "execution_count": 19,
   "metadata": {},
   "outputs": [],
   "source": [
    "\n",
    "from_texts = []\n",
    "to_texts = []\n",
    "\n",
    "for from_id, to_id in gs_df[['seed_id', 'target_id']].values:\n",
    "    if from_id in exp.doc_id2idx and to_id in exp.doc_id2idx:\n",
    "        from_texts.append(exp.texts[exp.doc_id2idx[from_id]])\n",
    "        to_texts.append(exp.texts[exp.doc_id2idx[to_id]])\n",
    "        \n",
    "labels = [1] * len(from_texts)\n",
    "\n"
   ]
  },
  {
   "cell_type": "code",
   "execution_count": 20,
   "metadata": {},
   "outputs": [
    {
     "data": {
      "text/plain": [
       "[\"Strauder v. West Virginia\\nStrauder v. West Virginia.\\n1. The Fourteenth Amendment of the Constitution of the United States considered, and held to be one of a series of constitutional provisions having a common purpose; namely, to secure to a recently emancipated race, which had been held in slavery through many generations, all the civil rights that the. superior race enjoy, and to give to it the protection of the general government, in the enjoyment of such rights, whenever they should be denied by the States. Whether the amendment had other, and if so what, purposes, not decided.\\n2. The amendment not only gave citizenship and the privileges of citizenship to persons of color, but denied to any State the power to withhold from them the equal protection of the laws, and invested Congress with power, by appropriate legislation, to enforce its provisions.\\n3. The amendment, although prohibitory in terms, confers by necessary implication a positive immunity, or right, most valuable to persons of the colored race, — the right to exemption from unfriendly legislation against them distinctively as colored, — exemption from discriminations, imposed by public authority, which imply legal inferiority in civil society, lessen by security of their rights, and are steps towards reducing them to the conui.tion of a subject race.\\n4. The statute of West Virginia, which, in effect, singles out and denies to colored citizens the right and privilege of participating in the administration of the law, as jurors, because of their color, though qualified in all other respects, is, practically, a brand upon them, and a discrimination against them which is forbidden by the amendment. It denies to such citizens the equal protection of the laws, since the constitution of juries is>a very essential part of the protection which the trial by jury is intended to secure. The very idea of a jury is that it is a body of men composed of the peers or equals of 'the person whose rights it is selected or summoned to determine; that is, of persons having the same legal status in society as that which he holds.\\n6. Where, as here, the State statute secures to every white man the right of trial by jury selected from, and without discrimination against, his race, and at the same time permits or requires such discrimination against the colored man because of his race, the latter is not equally protected by law with the former.\\n6. Sect. 641 of the Révised Statutes, which declares that “ when any civil suit or criminal prosecution is commenced in any State court, for any cause whatsoever, against any person who is denied or cannot enforce in the judicial tribunals of the States or in the part of the State where such suit or prosecution is pending, any right secured to him by any law providing for the equal civil rights of citizens of the United States, . . . such suit or prosecution may, upon the petition of such defendant, filed in said State court, at any time before the trial or final hearing of the cause, stating the facts and verified by oath, be removed, for trial, into the next circuit court to be held in the district where it is pending,” considered and held not to be in conflict with the Constitution >f the United States.\\nError to the Supreme Court of Appeals of the State of West Virginia.\\nThe facts are stated in the opinion of the court.\\nMr. Charles Devens and Mr. George O. Davenport for the plaintiff in error.\\nMr. Robert White, Attorney-General of West Virginia, and Mr. James W. Green, contra.\\nMr. Justice Strong\\ndelivered the opinion of the court.\\nThe plaintiff in error, a colored man, was indicted for murder in the Circuit Court of Ohio County, in West Virginia, on the 20th of October, 1874, and upon trial was convicted and sentenced. The record was then removed to' the Supreme (Court of the State, and there the judgment of the Circuit Court was affirmed. The present case is a writ of error to that court, and it is mow, in substance, averred that at the trial in the State court the defendant (now plaintiff in error) was denied rights to which he was entitled under the Constitution and laws of the United States.\\nIn the Circuit Court of the State, before the trial of the indictment was commenced, the defendant presented his petition, verified by his oath, praying for a removal of the cause, into the-’Circuit Court of the United States, assigning, as ground for the removal, that “ by virtue of the laws of the State of West Virginia no colored mam was eligible to be a member of the grand jury or to serve on a petit jury in the State; that white men are' so eligible, and that by reason of his being a colored man and having been a slave, he had reason to believe, and did believe, he could not have the full and equal benefit of all laws and proceedings in the State of We§t Virginia for the security of his person as is enjoyed by white citizens, and that he had less chance of enforcing in the courts of the State his rights on the prosecution, as a citizen of' the United States, and that the probabilities of a denial of them to him as such citizen ,on every trial which might ta,ke place on the indictment Iti'the courts of the State were much more enhanced than if-.life was a white man.” This petition was denied by the State court, and the cause was forced to trial.\\nMotions to quash the venire, “ because the law under which it was issued was unconstitutional, null, and void,” and successive motions to challenge the array of the panel, for a new 4á:ial, and in arrest of judgment were then made, all . of which were overruled and made by exceptions parts of the record.\\nThe law of the State to which reference was made in the petition for removal and in the several motions was enacted on the 12th of March, 1873 (Acts of 1872-73, p. 102), and it is as follows: “ All white male persons who are twenty-one years of age and who are citizens of this State shall be liable to serve as jurors, except as herein provided.” The persons excepted are State officials.\\nIn this court, several errors have been assigned, and the controlling questions underlying them all are, first, whether, by the Constitution and laws of the United States, every citizen of the United States has a right to a trial of an indictment against him by a jury selected and impanelled without discrimination against his race or color, because of race or color; and, second, if he has such a right, and is denied its enjoyment by the State in which he is indicted, may he cause the case to be removed into the Circuit Court of the United States ?\\nIt is to be observed that the first of these questions is not whether a colored man, when an indictment has been preferred against him, has a right to a grand or a petit jury composed in- whole or in part of persons of his own race or color, but it is whether, in the composition or selection of jurors by whom he is to be indicted or tried, all persons of his race or color may be excluded by law, solely because of their race or color, so that by no possibility can any colored man sit upon the jury.\\nThe questions are important, for they demand a construction of the recent amendments of the Constitution. If the defendant has a right to have' a jury selected for the trial of his case without discrimination against all persons of his race or color, because of their race or color, the right, if not created, is protectedJby-lhose amendments, and the legislation of Congress under them. Tiie~Nourteenth Amendment ordains that “ all persons born or naturalized in' the United States and subject to.' the jurisdiction thereof are citizens of the United States and o/ii the State wherein they reside. No State shall make or enforce any laws which shall abridge the privileges or immunities of citizens of the United States, nor shall any State deprive any person of life, liberty,, or property, without duü process of law, nor deny to any person within its jurisdiction the equal protection of the laws.”\\nThis is one of a series of constitutional provisions having a common purpose; namely, securing to a race recently emancipated, a race that through many generations had been held in slavery, all the civil rights that the superior race enjoy. The true spirit and meaning of the amendments, as we said in the Slaughter-House Cases (16 Wall. 36), cannot be understood without keeping in view the history of the times when they were adopted, and the general objects they plainly sought to accomplish. At the time when they were incorporated into the Constitution, it required little knowledge of human nature to anticipate that those who had long been regarded as an inferior and subject race would, when suddenly raised to the rank of citizenship, be looked upon with jealousy and positive dislike, and that State laws might be enacted or enforced to perpetuate the - distinctions that had before existed. Discriminations against them had been habitual. It was well known that in some States laws making such discriminations then existed, and others might well be expected. The colored race, as a race, was abject and ignorant, and in that condition was unfitted to command the respect of those who had superior intelligence. Their training had left them mere children, and as such they needed the protection which a wise government extends to those who are unable to protect themselves. They especially needed protection against unfriendly action in the States where they were resident. It was in view of these considerations the Fourteenth Amendment was framed and adopted. It was. designed to assure to the colored race the enjoyment of all the civil rights that under the law are enjoyed by white persons, and to give to that race the protection of the general government, in that enjoyment, whenever it should be denied by the States. It not only gave citizenship ánd\\\\ tbe privileges of citizenship to persons of color, but it denied to any State the power to withhold from them the equal protection of the laws, and authorized Congress to enforce its pro visions by appropriate legislation. To quote the language used by us in the Slaughter-House Cases, “No one can fail to be impressed with the one pervading purpose found in all the amendments, lying at the foundation of each, and without which none of them would have been suggested, — we mean the freedom of the slave race, the security and firm establishment of that freedom, and the protection of the newly made freeman and citizen from the oppressions of those who had formerly exercised unlimited dominion over them.” So again: “ The existence of laws in the States where the newly emancipated negroes resided, which discriminated with gross injustice and hardship against them as a class, was the evil to be remedied, and by it [the Fourteenth Amendment] such laws were forbidden. If, however, the States did not conform their laws to its requirements, then, by the fifth section of the article of amendment, Congress was authorized to enforce it by suitable legislation.” And it was added, “We doubt very much whether any action of a State, not directed by way of discrimination against the negroes, as a class, will ever, be held to come within the purview, of this provision.”\\nIf this is the spirit and meaning of the amendment, whether it means more or not, it is to be construed liberally, to carry out the purposes of its framers. It ordains that no State shall make or enforce any laws which shall abridge the privileges or immunities of citizens of the United States (evidently referring to the newly made citizens, who, being citizens of the United States, are declared to be also citizens of the State in which they reside). It ordains that no State shall deprive any person of life, liberty, or property, without due process of law, or deny to any person within its jurisdiction the equal protection of the laws. What is this but declaring that the law in the States shall be the same for the black as for the white; that all persons, whether colored or white, shall stand equal before the laws of the States, and, in regard to the colored race, for whose protection the amendment was primarily designed, that no discrimination shall be made against them by law because of their color? The words of the amendment, it is true, are prohibitory, but they contain a necessary implication of a positive immunity, or right, most valuable to the colored race, — the right to exemption from unfriendly legislation against them distinctively as colored, —.exemption from legal discriminations, implying inferiority in civil society, lessening the security of their enjoyment of the rights which others enjoy, and discriminations which are steps towards reducing them to the condition of a subject race.\\n. That the West Virginia statute respecting juries — the statute that controlled the selection of the grand and petit jury in the case of the plaintiff in error — is such a discrimination ought not to be doubted. Nor would it be if the persons excluded by it were white men. If in those States where the colored people constitute a majority of the entire population a law should be enacted excluding all white men from jury service, thus denying to them the privilege of participating equally with the blacks in the administration of justice, we apprehend no one would be heard to claim that it would not •be a denial to white men of the equal protection of the laws. 'Nor if a law should be passed excluding all naturalized Celtic Irishmen, would there be any doubt of its inconsistency with the spirit of the amendment. The very fact that colored people are singled out and expressly denied by a statute all right to participate in the administration of the law, as jurors, because of their color, though they are citizens, and may be in other respects fully qualified, is practically á brand upon them, affixed by the law, an assertion of their inferiority, and a stimulant to. that race prejudice which is an impediment to securing to individuals of the race that equal justice which the law aims to secure to all others.\\nThe right to a trial by jury is guaranteed to every citizen of •West Virginia by the Constitution of that State, and the constitution of juries is a very essential part of the protection such a mode of trial is intended to secure. The very idea of a jury is a body of men composed of the peers or equals of the person whose rights it is selected or summoned to determine; that is, of his neighbors, fellows, associates, persons having the same legal status in society as that which he holds. Blackstone, in his Commentaries, says, “ The right of trial by jury, or the country, is a trial by the peers of every Englishman, and is ,the grand bulwark of his liberties, and is secured to him by the Great Charter.” It is also guarded by statutory enactments intended to .make impossible what Mr. Bentham called “ packing juries.” It is well known that prejudices often exist against particular classes in the community, which sway the judgment of jurors, and which, therefore, operate in some cases to deny to persons of- those classes the full enjoyment of that protection which others enjoy. Prejudice in a local community is held to be a reason for a change of venue. The framers of the constitutional amendment must have known full well the' existence of such prejudice and its likelihood to continue against the manumitted slaves and their race, and that knowledge was doubtless a motive that led to the amendment. By their manumission and citizenship the colored race became entitled to the equal protection of the laws of the States in which they resided; and the apprehension that through prejudice they might be denied that equal'protection, that is, that there might be discrimination against them, was the inducement to bestow upon the national government the power to enforce the provision that no State shall deny to them the equal protection of the laws. Without the apprehended existence of prejudice that portion of the amendment would have been unnecessary, and it might have been left to the States to extend equality of protection.\\nIn view of these considerations, it is hard, to see why the statute of West Virginia should not be regarded as. discriminating against a colored man when he is put upon trial for an alleged criminal offence against the State. It is not easy to comprehend how it can be said that while every white man is entitled to a trial by a jury selected from persons of bis own race or color,- or, rather, selected without discrimination against his color, and a negro is not, the latter is equally protected by the law with the former. Is'not protection of life and liberty against race or color prejudice, a right, a legal right, under the constitutional amendment? And how can it be maintained that compelling a colored man to submit to a trial for his life by a jury drawn from a panel from which the State has expressly excluded every man of his race, because of color alone, however well qualified in other respects, is not a denial to him of equal legal protection ?\\nWe do not say that within the limits from which it is not excluded by the amendment a State may not prescribe the qualifications of its jurors, and in so doing make discriminations. It may confine the selection to males, to freeholders, to citizens, to persons within certain ages, or to persons having educational qualifications. We do not believe the Fourteenth Amendment was ever intended to prohibit this. Looking at its history, it is clear it had no such purpose. Its aim was against discrimination because of race or color. As we have said more than once, its design was to protect an emancipated race, and to strike down all possible legal discriminations against those who belong to it. To quote further from 16 Wall., supra: “ In giving construction to any of these articles [amendments], it is necessary to keep the main purpose steadily in view.” “ It is so clearly a provision for that race and that emergency, that a strong case would be necessary for its application to any other.” We are not now called upon to affirm or deny that it had other purposes.\\nThe Fourteenth Amendment makes no attempt to enumerate the rights it designed to protect. It speaks in general terms, and those are as comprehensive as possible. Its language is prohibitory; - but every. prohibition implies the existence of rights and immunities, prominent among which is an immunity from inequality of legal protection, either for life, liberty, or property.. Any State action that denies this immunity to a colored man is in conflict with the Constitution.\\nConcluding, therefore, that the statute of West Virginia, discriminating, in the selection of jurors, as it does, against negroes because of their color, amounts to a denial of the equal protection of the laws to a colored man when he is put upon trial for an alleged offence against the State, it remains only to be considered whether the power of Congress to enforce the provisions of the Fourteenth Amendment by appropriate legislation is sufficient to justify the enactment of sect. 641 of the Revised Statutes.\\nA right or an immunity, whether created by the Constitution or only guaranteed by it, even without any express delegation of power, may be protected by Congress. Prigg v. The Commonwealth of Pennsylvania, 16 Pet. 539. So in United States v. Reese (92 U. S. 214), it was said by the Chief Justice of this court: “ Rights and immunities created by or depexident upon the Constitution of the United States can be protected by Congress. The form and manner of the protection may be such as Congress in the legitimate exercise of its legislative discretion shall provide. These may be varied to meet the necessities of the particular right to be protected.” Hut .there is express authority to protect the rights and immunities referred to in the Fourteenth Amendment, and to enforce observance of them by appropriate congressional legislation. And one very efficient and appropriate mode of extending such protection and seeuririg to a party the enjoyment of the right or immunity, is a law providing for the removal of his case from a State court, in which the right is denied by the State law,'into a Federal court, where it will be upheld. This is an ordinary mode of protecting rights and immunities conferred by the Federal Constitution and laws. Sect. 641. is such a provision. It enacts that “when any civil suit or criminal prosecution is commenced in any State court for any cause whatsoever against anyperson who is denied, or cannot enforce, in the judicial tribunals of the State, or in the part of the State where such prosecution is pending, any right secured to him by any law providing for the equal civil rights of citizens of the United States, or of all persons within the jurisdiction- of the United States, such suit or prosecution may, upon the petition of such defendant, filed in said State court at any time before the trial, or final hearing of the case, stating the facts, and verified by oath, be removed before trial into the next Circuit Court of the United States to be held in the district where it is pending.”\\nThis act plainly has reference to sects. 1977 and 1978 of the statutes which partially enumerate the rights and immunities intended to be guaranteed by the Constitution, the first of which declares that “ all persons within the jurisdiction of the United States shall have the same right in every State and Territory to make and enforce contracts, to sue, be parties, give evidence, and to the full and equal benefit of all laws and proceedings for the security of persons and property, as is enjoyed by- white citizens, and shall be subject to like punishment, pains, penalties, taxes, licenses, and exactions of every kind, and to no other.” This act puts in the form of a statute what had been substantially ordained by the constitutional amendment. It was a step towards enforcing the constitutional provisions. Sect. 641 was an advanced step, fully warranted, we think, by the fifth section of the Fourteenth Amendment.\\nWe have heretofore considered and affirmed the constitutional power of Congress to authorize the removal from State courts into the circuit courts of the United States, before trial, of criminal prosecutions for alleged offences against the laws of the State, when the defence presents a Federal question, or when a right under the Federal Constitution or laws is involved. Tennessee v. Davis, supra, p. 257. It is unnecessary now to repeat what we there said.\\n■ That the^petition of the plaintiff in error, filed by him in the State court before the trial of hiá case, made a case for removal into the Federal Circuit Court, under sect. 641, is very plain, if, by the constitutional amendment and sect. 1977 of the Revised Statutes, he was entitled to immunity from discrimination against him in the selection of jurors, because of their color, as we have endeavored to show that he was. It set forth sufficient facts to exhibit a denial of that immunity, and a denial by the statute law of the State.\\nThere was error, therefore, in proceeding to the trial of the indictment against him after his petition was filed, as also in overruling his challenge to the array of the jury, and in refusing to quash the panel.\\nThe judgment of the'Supreme Court of West Virginia will be reversed, and the case remitted with instructions to reverse the judgment of the Circuit Court of Ohio county; and it is\\nSo ordered.\\n\\nMr. Justice Field.\\nI dissent from the judgment of the court in this case, on the grounds stated in my opinion in Ex parte Virginia (infra, p. 349), and Mr. Justice Clifford concurs with me.\",\n",
       " 'August Goebel and Theodore Gorenflo v. Alexander R. Linn and William F. Linn\\nAugust Goebel and Theodore Gorenflo v. Alexander R. Linn and William F. Linn.\\nContract — Duress—Novation—Consideration.\\nDefendants were large brewers, and bad a contract witb an ice company to supply tbem witb ice during tbe season of 1880 at one dollar seventy-five cents a ton, or two dollars if tbe crop was short. Tbe contract was made in November, 1879. Tbe following winter was so mild tbat tbe ice crop was a failure. In May defendants were notified by tbe ice company tbat no more ice would be furnished tbem under tbe contract. Defendants bad then on band a considerable amount of beer tbat would be spoiled without ice, and under stress of the circumstances they made a new arrangement witb tbe ice company, and agreed to pay $3.50 per ton for tbe ice. At this rate ice was received and paid for afterwards» A note given foil ice at this rate in October being sued, defendants disputed its validity, claiming tbat it was obtained without consideration and under duress.\\nHeld, 1. Tbat it wag-entirely competent for tbe parties to enter into the new arrangement if they saw fit,. Moore v. Detroit Locomotive Works 14 Mich*266.\\n2. Tbat tbe note was not without consideration, being given for ice received.\\n3. That tbe refusal of tbe ice company to perform its contract, and tbe exaction of a higher price, was not legal duress. HaeMey v. Headley 45 Mich. 509.\\nError to Superior, Court of Detroit.\\nSubmitted January 11.\\nDecided January 18.\\nAssumpsit. Defendants bring error.\\nAffirmed.\\nMaybwry dk Conely and Fred. A. Baker for plaintiffs in error.\\nJho. Atkinson and O. J. Reilly for defendants in error.\\nDuress is not shown in.this case: 6 Wait’s Actions 658; Miller v. Miller 68 Penn. St. 486; there was sufficient consideration for the new contract in its mutuality and in the rescission of the first: Cutter v. Cochrane 116 Mass. 409; Rollins v. Marsh 128 Mass. 116.\\nCooley, J.\\nThe action in this case is upon a promissory note given by defendants, October 20, 1880, to the Belle Isle Ice Co., and by that company transferred to the plaintiffs after it fell due. The execution of the note is admitted, and the only question in the case is, whether the defendants have established any defence to it.\\nThe defence set up is that the note was obtained without consideration, and by means of duress. The facts which are supposed to show duress are the following :\\nNovember 8, 1879, the Belle Isle Ice Co. entered into a contract with the defendants below, who are brewers in the city of Detroit, whereby the company undertook to furnish defendants at their brewery all the ice they might need for their business from that date until January 1,1881. The ice was to be delivered on orders, and the price was to be one dollar seventy-five cents per ton, and in case of the scarcity of ice during the season of 1880, two dollars per ton. Ice was furnished under this contract until May, 1880, when defendants were notified by Mr. Lorman, the manager or president of the ice company, that owing to the failure of the ice crop the preceding winter the company could and would furnish no more at the price stipulated. Other brewers in the city who held similar contracts received the like notification. This led to a meeting of several of the brewers with the president of the company and one of his associates, at which, the brewers were informed that instructions were given to the teamsters of the company to deliver no more ice until the parties had agreed to pay more for it. Five dollars a ton was at - first demanded, but the company finally agreed to deliver for three dollars and a half. Mr. Goebel who was a witness on behalf of the defendants explained the situation thus: “We had to pay most anything, if they asked twenty dollai’s; if we had no ice one day or two, if we had been without ice, all our stock would have been spoiled; if we hadn’t ice for two days, all our stock of beer would have been spoiled; we cannot run our business one day without ice; it would spoil our beer; it cools the cellar and cools the beer. At that time I could not procure ice of anybody; they waited just long enough not to give us a chance to buy ice of anybody else; * * we could not contract with anybody for ice as there was not any; all ice was contracted for then; all the ice of the icemen right here in this market; there were several men came over who had boat loads to sell and offered us ice; I told Loman we had a chance to buy ice, and he told us we should not; he would see our contract filled; this was during the spring months, before this conversation. At the time of this conversation no ice was obtainable in this market ; not in such large quantities as we wanted. * * * We never had less than 2000 or 3000 barrels of beer on hand. At 2500 at $6 a barrel would be $15,000, which would have been an entire loss, besides ruining the whole business, the whole trade; we could not have had any customers ; we could not have brewed any more; the brewing would have stopped also.” The consequence was, as he says, that they were forced to assent to the terms imposed upon them. From that time defendants paid $3.50 per ton for the ice as it was delivered to them, up to the first day of January following. Notes were given for the ice at this rate from time to time, and, with the exception of the one in suit, paid as they fell due. This statement is a sufficient presentation of the facts for the purposes of a decision. The defendants claim a set-off of the sums paid by them for ice in excess of two dollar? a ton.\\nIt is very manifest that there is no ground for saying that the note in suit was given without consideration. It was given for ice which was furnished by the payee to the defendants; which was owned by the payee and bought by the defendants, and for which defendants concede their liability to make payment. \"What the defendants dispute is, the justice of compelling them to pay the sum stipulated in the note when according to their previous contract they ought to have received the ice for a sum much smaller. The defence, therefore, is not that the consideration has failed, but that a note for a sum greater than the contract price has been extorted under circumstances amounting to duress.\\nIt is to be observed of these circumstances that if we confine our attention to the very time when the arrangement for an increased price was made the defendants make out a very plausible case. They had then a very considerable stock of beer on hand, and the case they make is one in which they must have ice at any cost, or théy must fail in business., If the ice company had the ability to perform their contract, but took advantage of the circumstances to extort a higher price from the necessities of the defendants, its conduct was reprehensible, and it would perhaps have been in the inter-lest of good morals if defendants had temporarily submitted Ito the loss and brought suit against the ice company on their \\'¡contract. No one disputes that at their option they mighj/ have taken that course, and that the ice company would have been responsible for all damages legally attributable to the breach of its contract.\\nBut the defendants did not elect to take that course. They chose for reasons which they must have deemed sufficient at the time to submit to the company’s demand and pay the increased price rather than rely upon their strict rights under the existing contract. \"What these reasons were is not explained to us except as above shown. It is obvious that there might be reasons that would go beyond ; the immediate injury to the business. Suppose, for example, the defendants had satisfied themselves that the ice com pany under the very extraordinary circumstances of the entire failure of the local crop of ice must be ruined if their existing contracts were to be insisted upon, and must be utterly unable to respond in damages; it is plain that then, whether they chose to rely upon their contract or not, it could have been of little or no value to them. Unexpected and extraordinary circumstances had rendered the contract worthless; and they must either make a new arra*gement, or, in insisting on holding the ice company to the existing contract, they would ruin the ice company and thereby at the same time ruin themselves. It would be very strange if under such a condition of things the existing contract, which unexpected events had rendered of no value, could stand in the way of a new arrangement, and constitute a baP to any new contract which should provide for a price that would enable both parties to save their interests.\\n\"We do not know that the condition of things was as supposed, but that it may have been is plain enough. What is certain is, that the parties immediately concerned and who knew all the facts, joined in making a new arrangement out of which the note in suit has grown. The case of Moore v. Detroit Locomotive Works 14 Mich. 266, where a similar case was fully considered, is ample authority for supporting the new arrangement.\\nIf unfair advantage was taken of defendants, whereby they were forced into a contract against their interests, it is very remarkable that they submitted to abide by it as they did for nearly eight months without in the meantime taking any steps for their protection. Whatever compulsion there was in the case was to be found in the danger to their business in consequence of the threat made at the beginning of May to cut off the supply of ice; but the force of the threat would be broken the moment they ■ could make arrangements for a supply elsewhere; and there is\\' no showing that_. such a supply was unattainable,. The force of the threat was therefore temporary; and the defendants, as soon as they were able to supply their needs elsewhere, might have been in position tb^ct independently, and to deal with the ice company as freely as they might with any other party who declined to keep his engagements. On any view, . therefore, which we may take of the law, the defence must fail.\\nBut if our attention were to be restricted to the very day when notice was given that ice would no longer be supplied •at the contract price, we could not agree that the case was one of dhress. It is not shown to be a case even of a hard bai’gain; and the price charged was probably not too much under the circumstances. But for the pre-existing contract I the one now questioned would probably have been fair j •enough, and if made with any other party would not have been complained of. The duress is therefore to be found in the refusal to keep the previous engagements. How far this falls short of legal duress was so recently considered by us in Hackley & McGordon v. Headley 45 Mich. 569, that further discussion now would serve no valuable purpose. In that case there was a dispute respecting the amount of a debt. The debtor refused to pay unless the creditor would accept in full the amount conceded by him to be owing. The creditor insisted that a large sum was due him, but being in . immediate need of money, the circumstances were such that he felt compelled, as he claimed, to accept the sum offered. .Afterwards he repudiated the arrangement, as having been made under duress. This court on a careful examination of the authorities, found no support for the claim in legal principles. The following language made use of in disposing of the case is not without relevancy here: “ In what did the alleged duress consist in the present case? Merely in this: that the. debtors refused to pay on demand a debt already due,.though the plaintiff was in great need of the money and might be financially ruined in case he failed to obtain it. It is not pretended that Hackley & McGordon had done anything to bring Headley to the condition which made this money so important to him at this very time, or that they were in any maimer responsible for his pecuniary embarassment except as they failed to pay this demand. The duress, then, is to be found exclusively in their failure to meet promptly their pecuniary obligation. But this, according to the plaintiff’s claim, would have constituted no duress whatever if he had not happened to be in pecuniary straits; and the validity of negotiations, according to this claim, must be determined, not by the defendant’s conduct, but by the plaintiff’s necessities. The same contract which would be valid if made with a man ¿asy in his circumstances, becomes invalid when the contracting party is pressed with the necessity of immediately meeting his bank paper. But this would be a most dangerous, as well as a most unequal doctrine; and if accepted, no one could well know when he would be safe in dealing on the ordinary terms of negotiation with a party who professed to be in great need.”\\nWe are of opinion that the defence failed, and that the judgment should be affirmed with costs.\\nThe other Justices concurred. •',\n",
       " 'PRO-FOOTBALL, INC., t/a The Washington Redskins, et al., v. Thomas J. TUPA, Jr.\\n51 A.3d 544\\nPRO-FOOTBALL, INC., t/a The Washington Redskins, et al., v. Thomas J. TUPA, Jr.\\nNo. 29,\\nSept. Term, 2011.\\nCourt of Appeals of Maryland.\\nAug. 22, 2012.\\nDavid O. Godwin, Jr. (Ashlee K. Smith of Godwin, Erlandson, MacLaughlin, Vernon and Daney, LLC, Ellicott City, MD), on brief, for Petitioners.\\nBenjamin T. Boscolo (Gerald Herz and Kevin H. Stillman, Chasen Boscolo Injury Lawyers, Greenbelt, MD), on brief, for Respondent.\\nJ. Porter Wiseman, Esquire, Washington, DC, Jeffrey L. Kessler, Esquire, Adam J. Kaiser, Esquire, Jeffrey H. New-house, New York, New York, Amici Curiae brief of the National Football League Players Association, National Bas ketball Players Association, Women’s National Basketball Players Association, Major League Baseball Players Association, National Hockey League Players Association, Professional Hockey Players Association, and Major League Soccer Players Union.\\nArgued before BELL, C.J., HARRELL, BATTAGLIA, GREENE, ADKINS, BARBERA, JOHN C. ELDRIDGE, (Retired, Specially Assigned), JJ.\\nELDRIDGE, J.\\nIn this case, involving a claim by a former professional football player for benefits under the Maryland Workers’ Compensation Act, based upon an injury during pre-game warm-up at the employer’s stadium in Prince George’s County, Maryland, the employer and its insurer presents two issues. The first is whether the Maryland Workers’ Compensation Commission should have exercised jurisdiction over the claim when the employment agreement contained a forum selection clause providing, inter alia, that claims for workers’ compensation benefits should be governed by Virginia law and that the Virginia Workers’ Compensation Commission should have exclusive jurisdiction to resolve such claims. The second issue presented by the employer and insurer is whether injuries occurring while playing and practicing professional football are “accidental injuries” and thus compensable under the Maryland Workers’ Compensation Act.\\nI.\\nThe facts underlying the two issues raised in the Court are not disputed by the parties. In March 2004, the respondent Thomas Tupa and the petitioner Pro-Football, Inc., trading as (t/a) the “Washington Redskins,” entered into a four-year National Football League (NFL) employment contract for Tupa to play football for Pro-Football, Inc. The position played by Mr. Tupa was “punter.” Pro-Football, Inc., t/a the Washington Redskins, is incorporated in Maryland and owns its stadium, named “FedEx Field,” which is located in Land-over, Prince George’s County, Maryland. All of Pro-Football, Inc.’s “home” football games are played at FedEx Field in Maryland, and the players’ practice or “warm-up” just before the games also occurs at FedEx Field. Pro-Football, Inc., has its headquarters and practice facility in Virginia, and most practices are at the Virginia facility. Such practices, of course, are for the purpose of getting the players ready to play well at the football games.\\nThe employment contract between Tupa and Pro-Football, Inc., contained, in an addendum, a forum selection clause which stated as follows:\\n“JURISDICTION. The parties hereto agree that this Player Contract shall for all purposes be deemed to have been negotiated and executed in Virginia; that should any dispute, claim or cause of action (collectively ‘dispute’) arise concerning rights or liabilities arising from the relationship between the Player and the Club, the parties hereto agree that the law governing such dispute shall be the law of the Commonwealth of Virginia, and that the exclusive jurisdiction for resolving such dispute in the case of Workers’ Compensation is the Virginia Workers’ Compensation Commission, and in the case of Workers’ Compensation claims the Virginia Workers’ Compensation Act shall govern.”\\nIn January 2005, Tupa complained of mild lower back pain, and he was examined by Dr. Thomas Schuler of the Virginia Spine Institute. At the time, Dr. Schuler determined that Tupa suffered from “significant underlying spondylosis and stenosis,” a condition which the doctor did not believe would effect Tupa’s ability to play during the 2005-2006 football season, particularly because Tupa had successfully completed the 2004-2005 season. The doctor concluded that Tupa “should be able to play one or two more seasons” before the condition greatly impacted him.\\nOn August 19, 2005, at FedEx Field, during his pre-game warm-up for a pre-season game, Tupa landed awkwardly after a punt and felt a sharp pain in his lower back. He described the pain as a “jarring” sensation, sought immediate medical attention, and received medication.\\nOn August 22, two days later, Tupa again visited Dr. Schuler, who noted that Tupa was reporting “95% back pain.” An MRI disclosed “significant progression of the disc degeneration ... [t]hat clearly progressed significantly from a year ago with much more collapse.” When Tupa saw Dr. Schuler again on August 28, Dr. Schuler concluded that Tupa had significant discogenic pain and could possibly be a good candidate for surgery. The doctor also determined that Tupa was not able to continue playing professional football until he was able to get his condition and the related pain “calmed down.” The doctor recommended intradiscal steroid injection “as a last ditch effort to get [Tupa] back to a functional status.”\\nWhen Tupa next saw the doctor on September 2, 2005, Tupa reported that the pain had not subsided and that he continued to have numbness and tingling sensations in his feet. Dr. Schuler recommended giving Tupa’s condition more time to heal naturally before proceeding with an operative solution. Dr. Schuler also noted that “the patient is still disabled from participating in the NFL, and he is still working aggressively in his rehabilitation to get back to a functional pain-free status.”\\nDespite a treatment regime which included medication and physical therapy, Tupa’s condition did not improve. In January 2006, during an end of season evaluation, Dr. Schuler noted that Tupa suffered from “a marked disc collapse ... of approximately 90%.” Dr. Schuler concluded that Tupa’s condition would not improve further without major spinal surgery, and that, even if Tupa did have surgery, it would be unlikely that he would ever be able to play professional football again. After discussing his options, along with the related risks, with Dr. Schuler, Tupa decided to forego surgery. Dr. Schuler noted that Tupa “understands] the risks of surgery versus no surgery, and participation and non-participation in the NFL. [Tupa] agrees ... he is not a candidate for the NFL at this time.”\\nOn May 15, 2006, Tupa filed a claim for benefits because of his back injury with the Virginia Workers’ Compensation Commission. He subsequently withdrew this claim, and the Virginia Commission dismissed the matter “without prejudice.”\\nOn October 12, 2006, Tupa sought an independent medical evaluation from Dr. Michael Franchetti. Dr. Franchetti concluded that the back injury sustained by Tupa on August 19, 2005, was “within a reasonable degree of medical certainty ... a career-ending injury for” Tupa. Another doctor, Dr. Charles Jackson, evaluated Tupa on December 11, 2006, and he likewise concluded that Tupa’s professional football career would be shortened, but he disagreed with the other doctors’ assessment that the back injury was caused by Tupa’s professional football activities. Rather, he concluded that the August 19th injury “manifest[ed] an ongoing degenerative spine condition which ... was aggravated by years of [punting].” He determined that “[t]he kicking incident did not cause or precipitate damage to [or] materially change the degenerative condition which” caused the end of Tupa’s career.\\nAt the present time, Tupa has not sought surgical intervention to address his back pain. He no longer plays professional football, but is currently employed in a sedentary position, which he has held since February 2006. Tupa was paid by Pro-Football, Inc., pursuant to his contract, for the remainder of the 2005-2006 season. Although Tupa still suffers from pain and takes medication to address it, he acknowledged in the circuit court trial that he believes that he will eventually need back surgery, although he is delaying the procedure for as long as possible.\\nTupa filed a claim for workers’ compensation benefits with the Maryland Workers’ Compensation Commission on March 30, 2007. The petitioners, Tupa’s employer and its insurer, challenged Tupa’s claim on the issues of “jurisdiction,” wheth er the injury was an accidental injury, and whether his disability was casually related to the injury in August 2005. On March 3, 2008, the Maryland Workers’ Compensation Commission held a hearing on Tupa’s contested claim. The Commission decided, on March 14, 2008, that the Maryland Commission could properly exercise jurisdiction over Tupa’s claim, that Tupa had sustained an accidental injury arising “out of and in the course of [his] employment,” and that Tupa’s disability was causally related to his accidental injury. Tupa was awarded temporary partial disability benefits and the petitioners were ordered to pay the related medical expenses.\\nPro-Football, Inc., and its insurer filed an action for judicial review in the Circuit Court for Prince George’s County and requested a trial by jury. Although the parties agreed that there were no factual disputes regarding the issue of jurisdiction, a two-day jury trial was held, in which the jury decided that Tupa had sustained an accidental injury in August 2005 and that his disability was causally connected to that accidental injury. The Circuit Court determined, as a matter of law, that the Maryland Workers’ Compensation Commission was entitled to exercise jurisdiction over Tupa’s workers’ compensation claim.\\nTupa’s employer and its insurer noted an appeal to the Court of Special Appeals, which affirmed in a reported opinion, Pro-Football v. Tupa, 197 Md.App. 463, 14 A.3d 678 (2011). The intermediate appellate court agreed with the Commission and Circuit Court that the Commission properly exercised jurisdiction over Tupa’s workers’ compensation claim, that Tupa was a covered employee, that Tupa incurred an accidental injury in August 2005, and that there was ample evidence to sustain the jury’s finding that Tupa’s disability was caused by the August 2005 injury.\\nTupa’s employer and insurer petitioned this Court for a -writ of certiorari which was granted. Pro-Football v. Tupa, 420 Md. 81, 21 A.3d 1063 (2011). The petitioners raise in this Court the following two issues (Petitioners’ brief in this Court at 2):\\n“Questions Presented\\n“I. Whether Maryland has jurisdiction over the Claimant’s workers’ compensation claim when the Claimant signed an employment contract agreeing to bring all workers’ compensation claims in the Commonwealth of Virginia.\\n“II. Whether the Claimant sustained an accidental injury arising out of and in the course of his employment on August 19, 2005.”\\nII.\\nThe petitioners’ principal argument is that the Maryland Workers’ Compensation Commission had no jurisdiction over Tupa’s claim and that the Maryland Workers’ Compensation Act had no application to the claim because “the Claimant was contractually bound to bring his claim for workers’ compensation benefits in the Commonwealth of Virginia.” (Petitioners’ brief at 4). The petitioners rely upon opinions of this Court indicating that “ ‘forum-selection clauses are presumptively enforceable.’ ” (Ibid., quoting Secure Financial v. Popular Leasing, 391 Md. 274, 282, 892 A.2d 571, 576 (2006)).\\nNone of this Court’s opinions relied upon by the petitioners, however, involved a workers’ compensation claim. More specifically, none of these opinions involved a statute which voided a provision in an employment contract waiving the rights of a covered employee under the Maryland Workers’ Compensation Act.\\nThe Maryland Workers’ Compensation Act, in § 9-104(a) of the Labor and Employment Article of the Code, provides as follows:\\n“§ 9-104. Agreements.\\n(a) Exemption from duty; waiver of right.—(1) Except as otherwise provided in this title, a covered employee or an employer of a covered employee may not by agreement, rule or regulation:\\n(i) exempt the covered employee or the employer from a duty of the covered employee or the employer under this title; or\\n(ii) waive a right of the covered employee or the employer under this title.\\n(2) An agreement, rule, or regulation that violates paragraph (1) of this subsection is void to the extent of the violation.”\\nThus, an agreement exempting “the employer from a duty of the ... employer under the” Act is “void.” (§ 9—104(a)(i)). Furthermore, an agreement waiving “a right of the covered employee ... under the” Act is void (§ 9-104(a)(ii)). Although § 9-104 contains a few special provisions, such as for railroad employees, none of them are applicable to the present case.\\nSection 9-104(a), in plain, unambiguous language, precludes an agreement which exempts an employer from the duty of paying workers’ compensation benefits which are otherwise due under the Maryland statute. The section also precludes an agreement which waives the right of an employee to receive workers’ compensation benefits which are otherwise due under the Maryland statute. A holding that forum selection clauses constitute an exception to § 9-104 would contravene basic principles concerning the interpretation of statutes. The petitioners would have us construe § 9-104 as if there was in the statute an exception for forum selection clauses. This we cannot do. As stated in numerous cases, a “ ‘plainly worded statute must be construed without forced or subtle interpretations designed to ... limit the scope of its operation.’ ” Harris v. Board of Education, 375 Md. 21, 31, 825 A.2d 365, 371 (2003), quoting Caffrey v. Dept. of Liquor Control for Montgomery County, 370 Md. 272, 292, 805 A.2d 268, 279 (2002). Inserting into § 9-104 an exception for forum selection clauses “ ‘would be to re-draft the statute under the guise of construction,’” Montrose Christian School v. Walsh, 363 Md. 565, 595, 770 A.2d 111, 128-129 (2001), quoting Davis v. State, 294 Md. 370, 378, 451 A.2d 107, 111 (1982).\\nMoreover, the applicable authorities support our conclusion that the forum selection clause in the employment contract was ineffective to divest the Maryland Workers’ Compensation Commission of the ability to exercise jurisdiction. In Kacur v. Employers Mut. Cas. Co., 253 Md. 500, 509, 254 A.2d 156, 161 (1969), this Court held that a forum selection clause in the employment contract was ineffective in a workers’ compensation case, and the Court quoted with approval Professor Larson as follows (3 Larson, Workmen’s Compensation Law, § 87.71 at 395 (1968 Supp.)):\\n“ ‘Express agreement between employer and employee that the statute of a named state shall apply is ineffective either to enlarge the applicability of that state’s statute or to diminish the applicability of the statutes of other states. Whatever the rule may be as to questions involving commercial paper, interest, usury and the like, the rule in workmen’s compensation is dictated by the overriding consideration that compensation is not a private matter to be arranged between two parties; the public has a profound interest in the matter which cannot be altered by any individual agreements. This is most obvious when such an agreement purports to destroy jurisdiction where it otherwise exists; practically every statute has emphatic prohibitions against cutting down rights or benefits by contract. The only exception occurs under several statutes which explicitly permit the parties to agree that the local statute shall not apply to out-of-state injuries.’ ”\\nIn McElroy v. Pohopek, 375 Md. 574, 578 n. 2, 594-595, 826 A.2d 474, 476 n. 2, 486 (2003), this Court held that Maryland Workers’ Compensation law applied to an employee’s claim despite a forum selection clause in the employment contract stating that the employee’s workers’ compensation claims “shall be exclusively governed by the [workers’] compensation laws of the State of Alabama.” See also Alaska Packers Assn. v. Comm’n, 294 U.S. 532, 55 S.Ct. 518, 79 L.Ed. 1044 (1935) (The employment contact, entered in California for work in Alaska, provided that Alaska Workers’ Compensation law should apply, but the Supreme Court of California, upholding an award of benefits under California workers’ compensation law, held that the forum selection clause was invalid. The Supreme Court of the Untied States affirmed, holding that the application of California workers’ compensation law violated neither the Full Faith and Credit Clause nor the Due Process Clause of the Fourteenth Amendment).\\nAs pointed out by the Court of Special Appeals in the present case, numerous cases in other states have also refused to give effect to forum selection clauses in workers’ compensation cases. See Pro-Football v. Tupa, supra, 197 Md.App. at 477, 14 A.3d at 686, collecting some of the cases; Swenson v. Nickaboine, 793 N.W.2d 738, 743 (Minn.2011); Gotkin v. Weinberg, 2 N.J. 305, 308, 66 A.2d 438, 439 (1949); McIlvaine Trucking, Inc. v. Workers’ Compensation Appeal Board, 570 Pa. 662, 673, 810 A.2d 1280, 1286 (2002); Jenkins v. Sal Chem. Co., 167 W.Va. 616, 280 S.E.2d 243 (1981).\\nIII.\\nThe petitioners’ second argument is that Tupa’s injury was not an “accidental personal injury” within the meaning of the Maryland Workers’ Compensation Act, § 9—101(b)(1) of the Labor and Employment Article. Petitioners’ rely upon Rowe v. Baltimore Colts, 53 Md.App. 526, 454 A.2d 872 (1983).\\nIn Rowe, a professional football player was injured while practicing in a “scrimmage,” and sought workers’ compensation benefits. The Court of Special Appeals held in Rowe that the player had not suffered an “accidental injury” within the meaning of the definition presently codified as § 9-101(b)(1). The Rowe opinion, 53 Md.App. at 535, 454 A.2d at 877, stated that “accidental injury” within the meaning of the Workers’ Compensation Act included injury “produced by some unusual and extraordinary condition or happening in the employment.” The opinion continued (53 Md.App. at 535-536, 454 A.2d at 878, emphasis added):\\n“The key to the application of the term ‘accidental injury,’ is whether the occurrence was an unusual or unexpected happening in the course of employment. Thus, if a stenographer was suddenly subjected to another employee’s striking him or her in the elbow with great force, the resulting injury would at a minimum be unusual, unexpected, and surprising. It would, in any event, not be a commonplace happening. Consequently, the stenographer would properly be said to have incurred an accidental injury within the meaning of the Workmen’s Compensation Law.\\n“On the other hand, a professional football player is engaged in an occupation in which physical contact with others is not only expected, commonplace, and usual, but is a requirement.”\\nThe Court of Special Appeals in the present case held that Rowe was contrary to current statutory and case law, and specifically that it was inconsistent with this Court’s opinion in Harris v. Board of Education, supra, 375 Md. 21, 825 A.2d 365. The Court of Special Appeals overruled Rowe, and we fully agree with that Court’s action.\\nThis Court in Harris v. Board of Education explicitly rejected the principle used in Rowe that an “accidental injury” must arise from an unusual or unexpected occurrence. Prior to Harris, several appellate opinions had held that, in order for an injury occurring during employment to be “accidental,” the injury must result from some “unusual strain, exertion or condition in employment.” Sargent v. Board of Education, Baltimore County, 49 Md.App. 577, 580-581, 433 A.2d 1209, 1211 (1981). See, e.g., Stancliff v. H. B. Davis Co., 208 Md. 191, 198, 117 A.2d 577, 581 (1955); Geipe, Inc. v. Collett, 172 Md. 165, 190 A. 836 (1937); Schemmel v. Gatch & Sons, 164 Md. 671, 166 A. 39 (1933); State Roads Commission v. Reynolds, 164 Md. 539, 165 A. 475 (1933).\\nIn Harris, a cafeteria worker was engaged in her usual work day activity of laundering the linens at the end of the day. She dragged a forty-five pound box of laundry soap outside, and when she subsequently bent down, her back “cracked.” She was in excruciating pain, and she immediately sought medical attention. During judicial review of the Workers’ Compensation Commission’s order granting Harris compensation, the case went to the jury, which determined that the Harris’s injury was not “accidental” because it did not result from an unusual work activity.\\nThis Court in Harris reviewed previous cases requiring that an accidental personal injury arise out of “unusual activity” in order to quality for workers’ compensation and determined that\\n“[t]he line of cases in this Court requiring that an accidental personal injury arise out of ‘unusual activity’ for there to be coverage obviously adds a requirement not contained in the statutory language.” 375 Md. at 30, 825 A.2d at 371.\\nReviewing the statutory language and earlier Maryland Workers’ Compensation cases, including Victory Sparkler Co. v. Francks, 147 Md. 368, 128 A. 635 (1925), this Court held that “what must be unexpected, unintended, or unusual is the resulting injury and not the activity out of which the injury arises.” Harris, 375 Md. at 36, 825 A.2d at 374. The Harris Court explained (375 Md. at 33, 825 A.2d at 372):\\n“ ‘The statutory definition of injury, which was made compensable without reference to neglect of employer or fault of worker, except when the injury was self-inflicted or the sole result of the intoxication of the employee, and the abolition of the fellow-servant rule, of defenses of contributory negligence and assumption of risk, and the substitution of a regulated and certain compensation for damages, contribute convincingly to the conclusion that the legislative intent was to include within the act not only the newly created class of compensable injuries, but also every injury which could be suffered by any worker in the course and arising out of the employment, for which there was then a subsisting right of action.... With this conception of the purpose and effect of the act, the Legislature was consistent in making the prescribed liability of the employer and remedy of the employee exclusive with respect to all injuries sustained in the hazardous employment,’ ” quoting Victory Sparkler, 147 Md. at 376-377, 128 A. at 637-638.\\nIn 2 Larson’s Workers’ Compensation § 22.04 (2007), the treatise refers to the “conspicuously wrong” idea that football injuries should not be considered accidental because “football is a dangerous sport fraught with expectation of injury.” Larson points out that, in “almost all states in which the National Football League operates,” injuries occurring during practice or the game are “routinely treated as compensable.” He comments that denying workers’ compensation benefits to professional football players effectively denies a class of covered employees compensation for doing precisely the job they were hired to do. Larson also draws attention to the inherent contradictions in this approach, stating:\\n“And why is doing the job itself not covered? Because everyone knows it is fraught with danger. As well, then, tell the coal miner — whose occupation is far more dangerous — that he or she is covered, so long as the miner does not go down into the mine----The books are full of cases in which compensation is denied a covered worker because he or she was not doing the job at the time. But never before because he or she was doing the job____To say that football injuries are not accidental because of the probability of injury is, if one looks more closely, no more than to say that any activity with a high risk factor should be ruled noncompensable.”\\nLarson criticizes “the kind of loose thinking” that characterizes professional sports injuries as not accidental (ibid.):\\n“As a little reflection will show, this is tantamount to saying that the player in effect intended to get himself injured. This is, of course, preposterous. True, some of these sports are rough. But everything about them is elaborately designed to prevent actual disabling physical injury. All the forbidden practices — clipping, piling-on, face-masking, spearing, unnecessary roughness, and a host of others — are precisely intended to do everything possible to forestall injury----It is, of course, not particularly surprising if, as a result of some such mish-mash of erroneous impressions both about professional sports and about workers’ compensation the untrained person-on-the-street (or in the jury) just somehow feels the professional athlete should not get compensation. But it is unworthy of a legally trained mind to substitute this kind of superficial reaction for an accurate analysis that simply accords professional athletes the same protection under compensation law as is enjoyed by everyone else who works for a living.”\\nTupa’s injury occurred “out of and in the course of [his] employment.” He was warming up for a game when he landed awkwardly and thereafter sought immediate medical treatment. Ample evidence was presented to show that Tupa suffered a compensable accidental injury during the course of his employment.\\nRESPONDENT’S MOTION TO STRIKE GRANTED. JUDGMENT OF THE COURT OF SPECIAL APPEALS AFFIRMED. PETITIONERS TO PAY COSTS IN THE COURT OF SPECIAL APPEALS AND IN THIS COURT.\\n1\\n. Maryland Code (1991, 2008 Repl.Vol.), § 9-101 et seq. of the Labor and Employment Article.\\n2\\n. As pointed out in the text, the Court of Special Appeals dealt with four issues, namely (1) whether the Maryland Commission should have exercised jurisdiction in light of the forum selection clause in the employment contract, (2) whether Tupa was a \"covered employee” under the Maryland statute, (3) whether the injury in August 2005 was an “accidental injury” within the meaning of the Maryland statute, and (4) whether Tupa’s disability was caused by the August 2005 injury. The petition for a writ of certiorari raised the first three of these issues but did not include the fourth. In their briefs and oral argument before this Court, however, the employer and insurer raised only two issues, i.e., whether the Maryland Commission should have exercised jurisdiction in light of the forum selection clause and whether Tupa sustained an accidental injury within the meaning of the Maryland Workers’ Compensation Act.\\nThe \"covered employee” issue was not mentioned in petitioners’ opening brief, reply brief, or oral argument. Consequently, the issue is not before us. See, e.g., Maryland Rule 8-504(a)(3); CWA v. Public Service Commission, 424 Md. 418, 423 notes 2 and 3, 36 A.3d 449, 451-452 notes 2 and 3 (2012) (“Appellant did not brief this issue, and we do not consider it”); Chesek v. Jones, 406 Md. 446, 455-456 n. 7, 959 A.2d 795, 800 n. 7 (2008) (“[W]e will not address question 4 ... where [the] parties failed to brief the issue and failed to address it at oral argument”); DiPino v. Davis, 354 Md. 18, 56, 729 A.2d 354, 374 (1999) (”[I]f a point germane to the appeal is not adequately raised in a party’s brief, the court may, and ordinarily should, decline to address it”).\\n3\\n. Section 9-101(b) provides as follows:\\n\"(b) Accidental personal injury. — ‘Accidental personal injury\\' means:\\n(1) an accidental injury that arises out of and in the course of employment;\\n(2) an injury caused by a willful or negligent act of a third person directed against a covered employee in the course of employment of the covered employee; or\\n(3) a disease or infection that naturally results from an accidental injury that arises out of an in the course of the employment, including:\\n(i) an occupational disease; and\\n(ii) frostbite or sunstroke caused by a weather condition.”\\n4\\n. In the “Statement of Facts” portion of their opening brief in this Court, the petitioners include the following footnote:\\n\"Petitioners would note that the Claimant’s contract is governed by the Collective Bargaining Agreement (\\'CBA’) entered into by the NFL players’ union (NFLPA) and the NFL owners (NFLMC).... Accordingly, federal law pre-empts Maryland law with regard to interpretation of the CBA, a player’s compliance therewith, and the propriety of Claimant’s injury-related claims. See the Labor Management Relations Act § 301, codified at 29 U.S.C. § 185. See also Ali v. Giant Food, LLC, 595 F.Supp.2d 618 (Md.2009) [(D.Md.2009)].\"\\nNo arguments based on the collective bargaining agreement between the players and owners, on federal law, on preemption, or on any federal labor statute, were made by the petitioners before the Commission, the Circuit Court, the Court of Special Appeals, or this Court. No such arguments were made in the certiorari petition or the argument portions of petitioners\\' briefs in this Court.\\nThe respondent has moved to strike from petitioners’ brief the above-quoted footnote, and we agree that respondent’s motion should be granted. See Maryland Rules 8-131(a) and 8—131 (b). See also, e.g., Fisher v. Eastern Correctional, 425 Md. 699, 714, 43 A.3d 338, 347 (2012); Robinson v. Baltimore Police Dep’t, 424 Md. 41, 49, 33 A.3d 972, 977 (2011); McDaniel v. Baranowski, 419 Md. 560, 567 n. 7, 19 A.3d 927, 931 n. 7 (2011); John Hopkins Hosp. v. Correia, 405 Md. 509, 513, 954 A.2d 1073, 1075 (2008); Garner v. Archers Glen Partners, Inc., 405 Md. 43, 60-61, 949 A.2d 639, 649 (2008).']"
      ]
     },
     "execution_count": 20,
     "metadata": {},
     "output_type": "execute_result"
    }
   ],
   "source": [
    "from_texts[:3]"
   ]
  },
  {
   "cell_type": "code",
   "execution_count": 21,
   "metadata": {},
   "outputs": [],
   "source": [
    "from sentence_transformers.evaluation.BinaryClassificationEvaluator import BinaryClassificationEvaluator\n",
    "\n",
    "evaluator = BinaryClassificationEvaluator(from_texts, to_texts, labels)"
   ]
  },
  {
   "cell_type": "code",
   "execution_count": null,
   "metadata": {},
   "outputs": [
    {
     "data": {
      "application/vnd.jupyter.widget-view+json": {
       "model_id": "30284c83330648768d96617b6e8c691f",
       "version_major": 2,
       "version_minor": 0
      },
      "text/plain": [
       "HBox(children=(FloatProgress(value=0.0, description='Epoch', max=3.0, style=ProgressStyle(description_width='i…"
      ]
     },
     "metadata": {},
     "output_type": "display_data"
    },
    {
     "data": {
      "application/vnd.jupyter.widget-view+json": {
       "model_id": "4ed82eb011ed4f32b1e1ada62e125271",
       "version_major": 2,
       "version_minor": 0
      },
      "text/plain": [
       "HBox(children=(FloatProgress(value=0.0, description='Iteration', max=7693.0, style=ProgressStyle(description_w…"
      ]
     },
     "metadata": {},
     "output_type": "display_data"
    }
   ],
   "source": [
    "# Training\n",
    "model.fit(\n",
    "    train_objectives=[(train_dl, train_loss)],\n",
    "    epochs=train_epochs, # try 1-4\n",
    "    warmup_steps=100,\n",
    "    #evaluator=evaluator,\n",
    "    #evaluation_steps=evaluation_steps,  # increase to 5000 (full dataset => 20k steps)\n",
    "    output_path=model_output_dir,\n",
    "    #output_path_ignore_not_empty=True\n",
    ")\n"
   ]
  },
  {
   "cell_type": "code",
   "execution_count": null,
   "metadata": {},
   "outputs": [],
   "source": [
    "model.save(model_output_dir)"
   ]
  },
  {
   "cell_type": "code",
   "execution_count": 25,
   "metadata": {},
   "outputs": [
    {
     "data": {
      "text/plain": [
       "'./models/ocb/sentence_poincare3_legal-bert'"
      ]
     },
     "execution_count": 25,
     "metadata": {},
     "output_type": "execute_result"
    }
   ],
   "source": [
    "model_output_dir"
   ]
  },
  {
   "cell_type": "code",
   "execution_count": 26,
   "metadata": {},
   "outputs": [
    {
     "data": {
      "text/plain": [
       "'./models/ocb/sentence_poincare3_legal-bert'"
      ]
     },
     "execution_count": 26,
     "metadata": {},
     "output_type": "execute_result"
    }
   ],
   "source": [
    "model_output_dir"
   ]
  },
  {
   "cell_type": "code",
   "execution_count": null,
   "metadata": {},
   "outputs": [],
   "source": []
  }
 ],
 "metadata": {
  "kernelspec": {
   "display_name": "Python [conda env:legal-docsim]",
   "language": "python",
   "name": "conda-env-legal-docsim-py"
  },
  "language_info": {
   "codemirror_mode": {
    "name": "ipython",
    "version": 3
   },
   "file_extension": ".py",
   "mimetype": "text/x-python",
   "name": "python",
   "nbconvert_exporter": "python",
   "pygments_lexer": "ipython3",
   "version": "3.7.7"
  }
 },
 "nbformat": 4,
 "nbformat_minor": 4
}
