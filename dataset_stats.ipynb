{
  "cells": [
    {
      "cell_type": "markdown",
      "metadata": {
        "pycharm": {}
      },
      "source": [
        "# Stats for OCB + WikiSource\n",
        "\n",
        "- Documents\n",
        "- Relevant document pairs\n",
        "- Mean relevant documents\n",
        "- Median relevant documents\n",
        "- Max. relevant documents\n"
      ]
    },
    {
      "cell_type": "code",
      "execution_count": 1,
      "metadata": {
        "pycharm": {}
      },
      "outputs": [
        {
          "name": "stderr",
          "output_type": "stream",
          "text": [
            "unable to import \u0027smart_open.gcs\u0027, disabling that module\n"
          ]
        }
      ],
      "source": "\nimport logging\nfrom pathlib import Path\n\nimport pandas as pd\nfrom IPython.core.display import display\n\nlogging.basicConfig(level\u003dlogging.INFO)\nlogger \u003d logging.getLogger(__name__)\n\nfrom docsim.environment import get_env\nfrom docsim.experiment import Experiment\n\n\nlogging.basicConfig(level\u003dlogging.INFO)"
    },
    {
      "cell_type": "code",
      "execution_count": 2,
      "metadata": {
        "pycharm": {}
      },
      "outputs": [
        {
          "name": "stdout",
          "output_type": "stream",
          "text": [
            "/data/experiments/mostendorff/legal-docsim/environments\n",
            "Environment detected: gpu_server2 (in default.yml)\n"
          ]
        }
      ],
      "source": [
        "data_dir \u003d Path(\u0027./data\u0027)\n",
        "figures_dir \u003d Path(\u0027./figures\u0027)\n",
        "models_dir \u003d Path(\u0027./models\u0027)\n",
        "\n",
        "env \u003d get_env()\n",
        "top_k \u003d 5\n",
        "\n",
        "metric_labels \u003d {\n",
        "    \u0027support\u0027: \u0027Support\u0027,\n",
        "    \u0027ret\u0027: \u0027Ret.\u0027,\n",
        "    \u0027rel\u0027: \u0027Rel.\u0027,\n",
        "    \u0027p\u0027: \u0027P\u0027,\n",
        "    \u0027r\u0027: \u0027R\u0027,\n",
        "    \u0027avg_p\u0027: \u0027MAP\u0027,\n",
        "    \u0027reciprocal_rank\u0027: \u0027MRR\u0027,\n",
        "}\n",
        "\n",
        "input_exps \u003d [\n",
        "    (\u0027ocb\u0027, \u0027OpenCaseBook\u0027),\n",
        "    (\u0027wikisource\u0027, \u0027WikiSource\u0027)\n",
        "]\n"
      ]
    },
    {
      "cell_type": "code",
      "execution_count": 45,
      "metadata": {
        "pycharm": {}
      },
      "outputs": [
        {
          "name": "stderr",
          "output_type": "stream",
          "text": [
            "INFO:docsim.experiment:Documents loaded: 1,632\n",
            "INFO:docsim.experiment:Unique documents in gold standard: 1,623\n",
            "INFO:docsim.experiment:Documents after filtering: 1,590 (before 1,632)\n",
            "INFO:docsim.experiment:Documents after filtering: 1,378 (before 64,003)\n"
          ]
        }
      ],
      "source": [
        "exps \u003d {}\n",
        "evaluate \u003d True   # change this\n",
        "gs_stats_list \u003d []\n",
        "\n",
        "for name, pretty_name in input_exps:\n",
        "\n",
        "    exp \u003d Experiment(name\u003dname, env\u003denv, data_dir\u003ddata_dir, pretty_name\u003dpretty_name)\n",
        "\n",
        "    exp.load_data()\n",
        "    exp.filter_docs()\n",
        "    \n",
        "    common_kwargs \u003d dict(\n",
        "        doc_id2idx\u003dexp.doc_id2idx, \n",
        "        idx2doc_id\u003dexp.idx2doc_id,\n",
        "        print_progress\u003dTrue,\n",
        "        tqdm_notebook\u003dTrue,\n",
        "        top_k\u003dtop_k,\n",
        "    )\n",
        "    \n",
        "    \n",
        "    seed_counts_df \u003d exp.gs.df[[\u0027seed_id\u0027, \u0027target_id\u0027]].groupby([\u0027seed_id\u0027]).count().reset_index()\n",
        "    seed_counts_df.describe()\n",
        "\n",
        "    gs_stats \u003d seed_counts_df.describe().rename(columns\u003ddict(target_id\u003dpretty_name))\n",
        "\n",
        "    gs_stats.loc[\u0027relevant_pairs\u0027] \u003d [len(exp.gs.df)]\n",
        "\n",
        "    gs_stats_list.append(gs_stats)\n",
        "\n"
      ]
    },
    {
      "cell_type": "code",
      "execution_count": 49,
      "metadata": {
        "pycharm": {}
      },
      "outputs": [],
      "source": [
        "stats_df \u003d pd.concat(gs_stats_list, axis\u003d1)"
      ]
    },
    {
      "cell_type": "code",
      "execution_count": 48,
      "metadata": {
        "pycharm": {}
      },
      "outputs": [
        {
          "data": {
            "text/html": [
              "\u003cdiv\u003e\n",
              "\u003cstyle scoped\u003e\n",
              "    .dataframe tbody tr th:only-of-type {\n",
              "        vertical-align: middle;\n",
              "    }\n",
              "\n",
              "    .dataframe tbody tr th {\n",
              "        vertical-align: top;\n",
              "    }\n",
              "\n",
              "    .dataframe thead th {\n",
              "        text-align: right;\n",
              "    }\n",
              "\u003c/style\u003e\n",
              "\u003ctable border\u003d\"1\" class\u003d\"dataframe\"\u003e\n",
              "  \u003cthead\u003e\n",
              "    \u003ctr style\u003d\"text-align: right;\"\u003e\n",
              "      \u003cth\u003e\u003c/th\u003e\n",
              "      \u003cth\u003ecount\u003c/th\u003e\n",
              "      \u003cth\u003emean\u003c/th\u003e\n",
              "      \u003cth\u003estd\u003c/th\u003e\n",
              "      \u003cth\u003emin\u003c/th\u003e\n",
              "      \u003cth\u003e25%\u003c/th\u003e\n",
              "      \u003cth\u003e50%\u003c/th\u003e\n",
              "      \u003cth\u003e75%\u003c/th\u003e\n",
              "      \u003cth\u003emax\u003c/th\u003e\n",
              "      \u003cth\u003erelevant_pairs\u003c/th\u003e\n",
              "    \u003c/tr\u003e\n",
              "  \u003c/thead\u003e\n",
              "  \u003ctbody\u003e\n",
              "    \u003ctr\u003e\n",
              "      \u003cth\u003eOpenCaseBook\u003c/th\u003e\n",
              "      \u003ctd\u003e1623.0\u003c/td\u003e\n",
              "      \u003ctd\u003e86.42\u003c/td\u003e\n",
              "      \u003ctd\u003e65.18\u003c/td\u003e\n",
              "      \u003ctd\u003e2.0\u003c/td\u003e\n",
              "      \u003ctd\u003e48.0\u003c/td\u003e\n",
              "      \u003ctd\u003e83.0\u003c/td\u003e\n",
              "      \u003ctd\u003e111.0\u003c/td\u003e\n",
              "      \u003ctd\u003e1590.0\u003c/td\u003e\n",
              "      \u003ctd\u003e140256.0\u003c/td\u003e\n",
              "    \u003c/tr\u003e\n",
              "    \u003ctr\u003e\n",
              "      \u003cth\u003eWikiSource\u003c/th\u003e\n",
              "      \u003ctd\u003e1540.0\u003c/td\u003e\n",
              "      \u003ctd\u003e130.01\u003c/td\u003e\n",
              "      \u003ctd\u003e82.46\u003c/td\u003e\n",
              "      \u003ctd\u003e1.0\u003c/td\u003e\n",
              "      \u003ctd\u003e88.0\u003c/td\u003e\n",
              "      \u003ctd\u003e113.0\u003c/td\u003e\n",
              "      \u003ctd\u003e194.0\u003c/td\u003e\n",
              "      \u003ctd\u003e616.0\u003c/td\u003e\n",
              "      \u003ctd\u003e200210.0\u003c/td\u003e\n",
              "    \u003c/tr\u003e\n",
              "  \u003c/tbody\u003e\n",
              "\u003c/table\u003e\n",
              "\u003c/div\u003e"
            ],
            "text/plain": [
              "               count    mean    std  min   25%    50%    75%     max  \\\n",
              "OpenCaseBook  1623.0   86.42  65.18  2.0  48.0   83.0  111.0  1590.0   \n",
              "WikiSource    1540.0  130.01  82.46  1.0  88.0  113.0  194.0   616.0   \n",
              "\n",
              "              relevant_pairs  \n",
              "OpenCaseBook        140256.0  \n",
              "WikiSource          200210.0  "
            ]
          },
          "metadata": {},
          "output_type": "display_data"
        }
      ],
      "source": [
        "with pd.option_context(\u0027precision\u0027, 2):\n",
        "    display(stats_df.transpose())"
      ]
    },
    {
      "cell_type": "code",
      "execution_count": 51,
      "metadata": {
        "pycharm": {}
      },
      "outputs": [
        {
          "name": "stdout",
          "output_type": "stream",
          "text": [
            "\\begin{tabular}{lrrrrrrrrr}\n",
            "\\toprule\n",
            "{} \u0026   count \u0026    mean \u0026    std \u0026  min \u0026   25\\% \u0026    50\\% \u0026    75\\% \u0026     max \u0026  relevant\\_pairs \\\\\n",
            "\\midrule\n",
            "OpenCaseBook \u0026  1623.0 \u0026   86.42 \u0026  65.18 \u0026  2.0 \u0026  48.0 \u0026   83.0 \u0026  111.0 \u0026  1590.0 \u0026        140256.0 \\\\\n",
            "WikiSource   \u0026  1540.0 \u0026  130.01 \u0026  82.46 \u0026  1.0 \u0026  88.0 \u0026  113.0 \u0026  194.0 \u0026   616.0 \u0026        200210.0 \\\\\n",
            "\\bottomrule\n",
            "\\end{tabular}\n",
            "\n"
          ]
        }
      ],
      "source": [
        "with pd.option_context(\u0027precision\u0027, 2):\n",
        "    print(stats_df.transpose().to_latex())"
      ]
    },
    {
      "cell_type": "code",
      "execution_count": null,
      "metadata": {
        "pycharm": {}
      },
      "outputs": [],
      "source": "\n"
    }
  ],
  "metadata": {
    "kernelspec": {
      "display_name": "Python [conda env:legal-docsim]",
      "language": "python",
      "name": "conda-env-legal-docsim-py"
    },
    "language_info": {
      "codemirror_mode": {
        "name": "ipython",
        "version": 3
      },
      "file_extension": ".py",
      "mimetype": "text/x-python",
      "name": "python",
      "nbconvert_exporter": "python",
      "pygments_lexer": "ipython3",
      "version": "3.7.7"
    }
  },
  "nbformat": 4,
  "nbformat_minor": 4
}